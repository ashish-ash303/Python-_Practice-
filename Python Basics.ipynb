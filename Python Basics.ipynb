{
 "cells": [
  {
   "cell_type": "code",
   "execution_count": 7,
   "id": "4ae8f22a",
   "metadata": {},
   "outputs": [],
   "source": [
    "fruits=[\"Apple\",\"Oranges\",\"Grapes\"]"
   ]
  },
  {
   "cell_type": "code",
   "execution_count": 8,
   "id": "4ad1313d",
   "metadata": {
    "scrolled": true
   },
   "outputs": [],
   "source": [
    "a_list = [23, 'hello', None, 3.14, fruits, 3 <= 5]"
   ]
  },
  {
   "cell_type": "code",
   "execution_count": 9,
   "id": "28c0aa16",
   "metadata": {},
   "outputs": [
    {
     "data": {
      "text/plain": [
       "[23, 'hello', None, 3.14, ['Apple', 'Oranges', 'Grapes'], True]"
      ]
     },
     "execution_count": 9,
     "metadata": {},
     "output_type": "execute_result"
    }
   ],
   "source": [
    "a_list"
   ]
  },
  {
   "cell_type": "code",
   "execution_count": 10,
   "id": "a12687ef",
   "metadata": {},
   "outputs": [
    {
     "data": {
      "text/plain": [
       "6"
      ]
     },
     "execution_count": 10,
     "metadata": {},
     "output_type": "execute_result"
    }
   ],
   "source": [
    "len(a_list)"
   ]
  },
  {
   "cell_type": "code",
   "execution_count": 11,
   "id": "47d77586",
   "metadata": {},
   "outputs": [
    {
     "data": {
      "text/plain": [
       "['hello', None, 3.14]"
      ]
     },
     "execution_count": 11,
     "metadata": {},
     "output_type": "execute_result"
    }
   ],
   "source": [
    "a_list[1:4]"
   ]
  },
  {
   "cell_type": "code",
   "execution_count": 12,
   "id": "317cdb1b",
   "metadata": {},
   "outputs": [
    {
     "data": {
      "text/plain": [
       "[23, 'hello', None, 3.14, ['Apple', 'Oranges', 'Grapes']]"
      ]
     },
     "execution_count": 12,
     "metadata": {},
     "output_type": "execute_result"
    }
   ],
   "source": [
    "a_list[:-1]"
   ]
  },
  {
   "cell_type": "code",
   "execution_count": 13,
   "id": "a2268630",
   "metadata": {},
   "outputs": [
    {
     "data": {
      "text/plain": [
       "[23, 'hello', None, 3.14, ['Apple', 'Oranges', 'Grapes'], True]"
      ]
     },
     "execution_count": 13,
     "metadata": {},
     "output_type": "execute_result"
    }
   ],
   "source": [
    "a_list[0:]"
   ]
  },
  {
   "cell_type": "code",
   "execution_count": 14,
   "id": "f713338a",
   "metadata": {},
   "outputs": [
    {
     "data": {
      "text/plain": [
       "[23, 'hello', None, 3.14, ['Apple', 'Oranges', 'Grapes'], True]"
      ]
     },
     "execution_count": 14,
     "metadata": {},
     "output_type": "execute_result"
    }
   ],
   "source": [
    "a_list[:]"
   ]
  },
  {
   "cell_type": "code",
   "execution_count": 15,
   "id": "a0151b0f",
   "metadata": {},
   "outputs": [
    {
     "data": {
      "text/plain": [
       "['hello', None, 3.14, ['Apple', 'Oranges', 'Grapes'], True]"
      ]
     },
     "execution_count": 15,
     "metadata": {},
     "output_type": "execute_result"
    }
   ],
   "source": [
    "a_list[1:]"
   ]
  },
  {
   "cell_type": "code",
   "execution_count": 17,
   "id": "d56c05a3",
   "metadata": {},
   "outputs": [
    {
     "data": {
      "text/plain": [
       "[None, 3.14, ['Apple', 'Oranges', 'Grapes']]"
      ]
     },
     "execution_count": 17,
     "metadata": {},
     "output_type": "execute_result"
    }
   ],
   "source": [
    "a_list[2:5]"
   ]
  },
  {
   "cell_type": "code",
   "execution_count": 18,
   "id": "73d2ab51",
   "metadata": {},
   "outputs": [
    {
     "data": {
      "text/plain": [
       "['hello', None, 3.14, ['Apple', 'Oranges', 'Grapes'], True]"
      ]
     },
     "execution_count": 18,
     "metadata": {},
     "output_type": "execute_result"
    }
   ],
   "source": [
    "a_list[1:10]"
   ]
  },
  {
   "cell_type": "code",
   "execution_count": 19,
   "id": "a4db6d9a",
   "metadata": {},
   "outputs": [
    {
     "data": {
      "text/plain": [
       "[]"
      ]
     },
     "execution_count": 19,
     "metadata": {},
     "output_type": "execute_result"
    }
   ],
   "source": [
    "a_list[12:18]"
   ]
  },
  {
   "cell_type": "code",
   "execution_count": 20,
   "id": "b57dc30d",
   "metadata": {},
   "outputs": [
    {
     "data": {
      "text/plain": [
       "[23, 'hello', None, 3.14, ['Apple', 'Oranges', 'Grapes']]"
      ]
     },
     "execution_count": 20,
     "metadata": {},
     "output_type": "execute_result"
    }
   ],
   "source": [
    "a_list[:5]"
   ]
  },
  {
   "cell_type": "code",
   "execution_count": 38,
   "id": "f39f5a4a",
   "metadata": {},
   "outputs": [
    {
     "data": {
      "text/plain": [
       "[23, 'hello']"
      ]
     },
     "execution_count": 38,
     "metadata": {},
     "output_type": "execute_result"
    }
   ],
   "source": [
    "a_list[:2]"
   ]
  },
  {
   "cell_type": "code",
   "execution_count": 40,
   "id": "936c4157",
   "metadata": {},
   "outputs": [
    {
     "data": {
      "text/plain": [
       "[['Apple', 'Oranges', 'Grapes']]"
      ]
     },
     "execution_count": 40,
     "metadata": {},
     "output_type": "execute_result"
    }
   ],
   "source": [
    "a_list[-2:-1]"
   ]
  },
  {
   "cell_type": "code",
   "execution_count": 29,
   "id": "cc7813d7",
   "metadata": {},
   "outputs": [
    {
     "data": {
      "text/plain": [
       "[]"
      ]
     },
     "execution_count": 29,
     "metadata": {},
     "output_type": "execute_result"
    }
   ],
   "source": [
    "a_list[-2:4]"
   ]
  },
  {
   "cell_type": "code",
   "execution_count": 30,
   "id": "b47bce46",
   "metadata": {},
   "outputs": [
    {
     "data": {
      "text/plain": [
       "[23, 'hello', None, 3.14, ['Apple', 'Oranges', 'Grapes'], True]"
      ]
     },
     "execution_count": 30,
     "metadata": {},
     "output_type": "execute_result"
    }
   ],
   "source": [
    "a_list"
   ]
  },
  {
   "cell_type": "code",
   "execution_count": 24,
   "id": "fca7d6f2",
   "metadata": {},
   "outputs": [
    {
     "data": {
      "text/plain": [
       "[None]"
      ]
     },
     "execution_count": 24,
     "metadata": {},
     "output_type": "execute_result"
    }
   ],
   "source": [
    "a_list[2:-3]"
   ]
  },
  {
   "cell_type": "code",
   "execution_count": 37,
   "id": "0b0fa917",
   "metadata": {},
   "outputs": [
    {
     "data": {
      "text/plain": [
       "[]"
      ]
     },
     "execution_count": 37,
     "metadata": {},
     "output_type": "execute_result"
    }
   ],
   "source": [
    "a_list[2:-4]"
   ]
  },
  {
   "cell_type": "markdown",
   "id": "5f884e78",
   "metadata": {},
   "source": [
    "## It Shows empty list because the Second index is greater than first index couting from another side."
   ]
  },
  {
   "cell_type": "code",
   "execution_count": 26,
   "id": "c8198a18",
   "metadata": {},
   "outputs": [
    {
     "data": {
      "text/plain": [
       "[]"
      ]
     },
     "execution_count": 26,
     "metadata": {},
     "output_type": "execute_result"
    }
   ],
   "source": [
    "a_list[2:-6]"
   ]
  },
  {
   "cell_type": "code",
   "execution_count": 28,
   "id": "16acb5ae",
   "metadata": {},
   "outputs": [
    {
     "data": {
      "text/plain": [
       "[]"
      ]
     },
     "execution_count": 28,
     "metadata": {},
     "output_type": "execute_result"
    }
   ],
   "source": [
    "a_list[2:-7]"
   ]
  },
  {
   "cell_type": "markdown",
   "id": "cfaf8341",
   "metadata": {},
   "source": [
    "###  While Inserting a value in list we have to give an index number also while poping if we donot give any index while poping it remove it  from end of the list.\n",
    "\n",
    "### To make a copy simply use .copy()"
   ]
  },
  {
   "cell_type": "markdown",
   "id": "84196cdc",
   "metadata": {},
   "source": [
    "## Reversing a list"
   ]
  },
  {
   "cell_type": "code",
   "execution_count": 55,
   "id": "d6c374ca",
   "metadata": {},
   "outputs": [],
   "source": [
    "more_fruits=fruits+[\"cherry\",\"tomato\",\"dates\"]"
   ]
  },
  {
   "cell_type": "code",
   "execution_count": 56,
   "id": "778ac6be",
   "metadata": {},
   "outputs": [
    {
     "data": {
      "text/plain": [
       "['Apple', 'Oranges', 'Grapes', 'cherry', 'tomato', 'dates']"
      ]
     },
     "execution_count": 56,
     "metadata": {},
     "output_type": "execute_result"
    }
   ],
   "source": [
    "more_fruits"
   ]
  },
  {
   "cell_type": "code",
   "execution_count": 63,
   "id": "23d9607c",
   "metadata": {},
   "outputs": [
    {
     "name": "stdout",
     "output_type": "stream",
     "text": [
      "list after reversing ['dates', 'tomato', 'cherry', 'Grapes', 'Oranges', 'Apple']\n"
     ]
    }
   ],
   "source": [
    "more_fruits.reverse()\n",
    "print(\"list after reversing\",more_fruits)"
   ]
  },
  {
   "cell_type": "markdown",
   "id": "1fe3e982",
   "metadata": {},
   "source": [
    "## Sorting in Alphabetical Order"
   ]
  },
  {
   "cell_type": "code",
   "execution_count": 64,
   "id": "bc37ffda",
   "metadata": {
    "scrolled": false
   },
   "outputs": [
    {
     "data": {
      "text/plain": [
       "['Apple', 'Grapes', 'Oranges', 'cherry', 'dates', 'tomato']"
      ]
     },
     "execution_count": 64,
     "metadata": {},
     "output_type": "execute_result"
    }
   ],
   "source": [
    "sorted_list=sorted(more_fruits)\n",
    "sorted_list"
   ]
  },
  {
   "cell_type": "markdown",
   "id": "1a6f3877",
   "metadata": {},
   "source": [
    "## Arrangeing in descending Order"
   ]
  },
  {
   "cell_type": "code",
   "execution_count": 65,
   "id": "8d02a6bb",
   "metadata": {},
   "outputs": [
    {
     "data": {
      "text/plain": [
       "['Oranges', 'Grapes', 'Apple']"
      ]
     },
     "execution_count": 65,
     "metadata": {},
     "output_type": "execute_result"
    }
   ],
   "source": [
    "desc_sort=sorted(fruits,reverse=True)\n",
    "desc_sort"
   ]
  },
  {
   "cell_type": "markdown",
   "id": "987d8b3a",
   "metadata": {},
   "source": [
    "# Note:\n",
    "A tuple is an ordered collection of values, similar to a list. However, it is not possible to add, remove, or modify values in a tuple. A tuple is created by enclosing values within parentheses ( and ), separated by commas.\n",
    "\n",
    "Any data structure that cannot be modified after creation is called immutable. You can think of tuples as immutable lists."
   ]
  },
  {
   "cell_type": "code",
   "execution_count": 67,
   "id": "95111b2c",
   "metadata": {},
   "outputs": [],
   "source": [
    "a=3,"
   ]
  },
  {
   "cell_type": "code",
   "execution_count": 68,
   "id": "95a6c6ef",
   "metadata": {},
   "outputs": [
    {
     "data": {
      "text/plain": [
       "tuple"
      ]
     },
     "execution_count": 68,
     "metadata": {},
     "output_type": "execute_result"
    }
   ],
   "source": [
    "type(a)"
   ]
  },
  {
   "cell_type": "markdown",
   "id": "b5578d08",
   "metadata": {},
   "source": [
    "# Note:\n",
    "\n",
    "We can convert a list into a tuple using the tuple function, and vice versa using the list function\n",
    "\n"
   ]
  },
  {
   "cell_type": "code",
   "execution_count": 69,
   "id": "3feac0b9",
   "metadata": {},
   "outputs": [
    {
     "data": {
      "text/plain": [
       "('one', 'Avenger')"
      ]
     },
     "execution_count": 69,
     "metadata": {},
     "output_type": "execute_result"
    }
   ],
   "source": [
    "tuple([\"one\",\"Avenger\"])"
   ]
  },
  {
   "cell_type": "code",
   "execution_count": 74,
   "id": "a549535d",
   "metadata": {},
   "outputs": [],
   "source": [
    "a_tuple = 23, \"hello\", False, None, 23, 37, \"hello\""
   ]
  },
  {
   "cell_type": "code",
   "execution_count": 85,
   "id": "3a155670",
   "metadata": {},
   "outputs": [
    {
     "data": {
      "text/plain": [
       "2"
      ]
     },
     "execution_count": 85,
     "metadata": {},
     "output_type": "execute_result"
    }
   ],
   "source": [
    "b=a_tuple.count(23)\n",
    "b"
   ]
  },
  {
   "cell_type": "code",
   "execution_count": 87,
   "id": "5ae08ef4",
   "metadata": {},
   "outputs": [
    {
     "data": {
      "text/plain": [
       "2"
      ]
     },
     "execution_count": 87,
     "metadata": {},
     "output_type": "execute_result"
    }
   ],
   "source": [
    "c=a_tuple.index(False)\n",
    "c"
   ]
  },
  {
   "cell_type": "markdown",
   "id": "3b33b24a",
   "metadata": {},
   "source": [
    "## Dictionaries"
   ]
  },
  {
   "cell_type": "code",
   "execution_count": 88,
   "id": "69d345f7",
   "metadata": {},
   "outputs": [],
   "source": [
    "person={\n",
    "    \"name\":\"Ashish\",\n",
    "    \"Age\":20,\n",
    "    \"Sex\":\"Male\"\n",
    "    \n",
    "}"
   ]
  },
  {
   "cell_type": "code",
   "execution_count": 89,
   "id": "3b574dbf",
   "metadata": {},
   "outputs": [
    {
     "data": {
      "text/plain": [
       "{'name': 'Ashish', 'Age': 20, 'Sex': 'Male'}"
      ]
     },
     "execution_count": 89,
     "metadata": {},
     "output_type": "execute_result"
    }
   ],
   "source": [
    "person"
   ]
  },
  {
   "cell_type": "code",
   "execution_count": 91,
   "id": "b8ac89cd",
   "metadata": {},
   "outputs": [
    {
     "data": {
      "text/plain": [
       "dict_keys(['name', 'Age', 'Sex'])"
      ]
     },
     "execution_count": 91,
     "metadata": {},
     "output_type": "execute_result"
    }
   ],
   "source": [
    "person.keys()"
   ]
  },
  {
   "cell_type": "code",
   "execution_count": 92,
   "id": "06275710",
   "metadata": {},
   "outputs": [
    {
     "data": {
      "text/plain": [
       "dict_values(['Ashish', 20, 'Male'])"
      ]
     },
     "execution_count": 92,
     "metadata": {},
     "output_type": "execute_result"
    }
   ],
   "source": [
    "person.values()"
   ]
  },
  {
   "cell_type": "code",
   "execution_count": 93,
   "id": "eb997196",
   "metadata": {},
   "outputs": [],
   "source": [
    "person[\"address\"]=\"CA\""
   ]
  },
  {
   "cell_type": "code",
   "execution_count": 94,
   "id": "2a554d0f",
   "metadata": {},
   "outputs": [
    {
     "data": {
      "text/plain": [
       "{'name': 'Ashish', 'Age': 20, 'Sex': 'Male', 'address': 'CA'}"
      ]
     },
     "execution_count": 94,
     "metadata": {},
     "output_type": "execute_result"
    }
   ],
   "source": [
    "person"
   ]
  },
  {
   "cell_type": "code",
   "execution_count": 98,
   "id": "8b097777",
   "metadata": {},
   "outputs": [
    {
     "data": {
      "text/plain": [
       "dict_items([('name', 'Ashish'), ('Age', 20), ('Sex', 'Male'), ('address', 'CA')])"
      ]
     },
     "execution_count": 98,
     "metadata": {},
     "output_type": "execute_result"
    }
   ],
   "source": [
    "((person.items()))"
   ]
  },
  {
   "cell_type": "markdown",
   "id": "130409ec",
   "metadata": {},
   "source": [
    "## While Loop"
   ]
  },
  {
   "cell_type": "code",
   "execution_count": 104,
   "id": "a063cb34",
   "metadata": {
    "scrolled": true
   },
   "outputs": [
    {
     "name": "stdout",
     "output_type": "stream",
     "text": [
      "1\n",
      "2\n",
      "3\n",
      "4\n",
      "5\n",
      "6\n",
      "7\n",
      "8\n",
      "9\n"
     ]
    }
   ],
   "source": [
    "i=1\n",
    "while i< 10:\n",
    "   \n",
    "    print(i)\n",
    "    i+=1\n",
    "   "
   ]
  },
  {
   "cell_type": "code",
   "execution_count": 105,
   "id": "b4dfefd2",
   "metadata": {},
   "outputs": [
    {
     "name": "stdout",
     "output_type": "stream",
     "text": [
      "2\n",
      "3\n",
      "4\n",
      "5\n",
      "6\n",
      "7\n",
      "8\n",
      "9\n",
      "10\n",
      "11\n"
     ]
    }
   ],
   "source": [
    "i=1\n",
    "while i<=10:\n",
    "    i+=1\n",
    "    print(i)"
   ]
  },
  {
   "cell_type": "markdown",
   "id": "17e2a5d2",
   "metadata": {},
   "source": [
    "### Explanation:\n",
    "\n",
    "Here in first case `i` start with `1` because in first case we first printing `i` then incrementing  it, while in second case first we incrementing it then printing it."
   ]
  },
  {
   "cell_type": "code",
   "execution_count": 109,
   "id": "d10b15dc",
   "metadata": {},
   "outputs": [
    {
     "name": "stdout",
     "output_type": "stream",
     "text": [
      "93326215443944152681699238856266700490715968264381621468592963895217599993229915608941463976156518286253697920827223758251185210916864000000000000000000000000\n"
     ]
    }
   ],
   "source": [
    "result=1\n",
    "i=1\n",
    "\n",
    "while i<=100:\n",
    "    \n",
    "    result=result*i\n",
    "    i=i+1\n",
    "\n",
    "    \n",
    "print(result)"
   ]
  },
  {
   "cell_type": "markdown",
   "id": "7b27344f",
   "metadata": {},
   "source": [
    "## Nested For Loop"
   ]
  },
  {
   "cell_type": "code",
   "execution_count": 112,
   "id": "0cf4fa3e",
   "metadata": {},
   "outputs": [
    {
     "name": "stdout",
     "output_type": "stream",
     "text": [
      "Monday Apple\n",
      "Monday Banana\n",
      "Monday Guava\n",
      "Tuesday Apple\n",
      "Tuesday Banana\n",
      "Tuesday Guava\n",
      "Wednesday Apple\n",
      "Wednesday Banana\n",
      "Wednesday Guava\n"
     ]
    }
   ],
   "source": [
    "days=[\"Monday\",\"Tuesday\",\"Wednesday\"]\n",
    "fruits=[\"Apple\",\"Banana\",\"Guava\"]\n",
    "\n",
    "for day in days:\n",
    "    for fruit in fruits:\n",
    "        print(day,fruit)"
   ]
  },
  {
   "cell_type": "code",
   "execution_count": 85,
   "id": "143e61c3",
   "metadata": {},
   "outputs": [
    {
     "name": "stdout",
     "output_type": "stream",
     "text": [
      "*\n",
      "**\n",
      "***\n",
      "****\n",
      "*****\n"
     ]
    }
   ],
   "source": [
    "star=\"*\"\n",
    "max_length=5\n",
    "\n",
    "while len(star)<=max_length:\n",
    "    print(star)\n",
    "    star+=\"*\""
   ]
  },
  {
   "cell_type": "code",
   "execution_count": 86,
   "id": "c9c57b26",
   "metadata": {},
   "outputs": [
    {
     "name": "stdout",
     "output_type": "stream",
     "text": [
      "******\n",
      "*****\n",
      "****\n",
      "***\n",
      "**\n",
      "*\n"
     ]
    }
   ],
   "source": [
    "while len(star) >0:\n",
    "    print(star)\n",
    "    star = star[:-1]\n",
    "   "
   ]
  },
  {
   "cell_type": "code",
   "execution_count": 88,
   "id": "735b5091",
   "metadata": {},
   "outputs": [
    {
     "name": "stdout",
     "output_type": "stream",
     "text": [
      "*\n",
      "**\n",
      "***\n",
      "****\n",
      "*****\n",
      "******\n",
      "*******\n",
      "********\n",
      "*********\n",
      "********\n",
      "*******\n",
      "******\n",
      "*****\n",
      "****\n",
      "***\n",
      "**\n",
      "*\n"
     ]
    }
   ],
   "source": [
    "star=\"*\"\n",
    "max_length=8\n",
    "\n",
    "while len(star)<= max_length:\n",
    "    print(star)\n",
    "    star+=\"*\"\n",
    "\n",
    "while len(star)>0:\n",
    "    print(star)\n",
    "    star=star[:-1]"
   ]
  },
  {
   "cell_type": "code",
   "execution_count": 150,
   "id": "d22fb19c",
   "metadata": {},
   "outputs": [
    {
     "name": "stdout",
     "output_type": "stream",
     "text": [
      "&\n",
      "&&\n",
      "&&&\n",
      "&&&&\n",
      "&&&&&\n",
      "&&&&&&\n",
      "&&&&&&&\n",
      "&&&&&&&&\n",
      "&&&&&&&&&\n",
      "&&&&&&&&&&\n"
     ]
    }
   ],
   "source": [
    "and1=\"&\"\n",
    "max_length=10\n",
    "\n",
    "while len(and1)<=(max_length):\n",
    "    print(and1)\n",
    "    and1+= \"&\""
   ]
  },
  {
   "cell_type": "code",
   "execution_count": 151,
   "id": "b26a35c8",
   "metadata": {},
   "outputs": [
    {
     "name": "stdout",
     "output_type": "stream",
     "text": [
      "&&&&&&&&&&&\n",
      "&&&&&&&&&&\n",
      "&&&&&&&&&\n",
      "&&&&&&&&\n",
      "&&&&&&&\n",
      "&&&&&&\n",
      "&&&&&\n",
      "&&&&\n",
      "&&&\n",
      "&&\n",
      "&\n"
     ]
    }
   ],
   "source": [
    "while len(and1)> 0:\n",
    "    print(and1)\n",
    "    and1=and1[:-1]"
   ]
  },
  {
   "cell_type": "code",
   "execution_count": 159,
   "id": "7c644890",
   "metadata": {},
   "outputs": [
    {
     "name": "stdout",
     "output_type": "stream",
     "text": [
      "&\n",
      "&&\n",
      "&&&\n",
      "&&&&\n",
      "&&&&&\n",
      "&&&&&&\n",
      "&&&&&&&\n",
      "&&&&&&&&\n",
      "&&&&&&&&&\n",
      "&&&&&&&&&&\n",
      "&&&&&&&&&&&\n",
      "&&&&&&&&&&\n",
      "&&&&&&&&&\n",
      "&&&&&&&&\n",
      "&&&&&&&\n",
      "&&&&&&\n",
      "&&&&&\n",
      "&&&&\n",
      "&&&\n",
      "&&\n",
      "&\n"
     ]
    }
   ],
   "source": [
    "and1=\"&\"\n",
    "max_length=10\n",
    "\n",
    "while len(and1)<=(max_length):\n",
    "    print(and1)\n",
    "    and1+= \"&\"\n",
    "    \n",
    "while len(and1)> 0:\n",
    "    print(and1)\n",
    "    and1=and1[:-1]\n",
    "    \n",
    "    \n"
   ]
  },
  {
   "cell_type": "code",
   "execution_count": 160,
   "id": "f736613e",
   "metadata": {},
   "outputs": [
    {
     "name": "stdout",
     "output_type": "stream",
     "text": [
      "Magic number 42 reached! Stopping execution..\n",
      "i: 42\n",
      "result: 1405006117752879898543142606244511569936384000000000\n"
     ]
    }
   ],
   "source": [
    "i = 1\n",
    "result = 1\n",
    "\n",
    "while i <= 100:\n",
    "    result *= i\n",
    "    if i == 42:\n",
    "        print('Magic number 42 reached! Stopping execution..')\n",
    "        break\n",
    "    i += 1\n",
    "    \n",
    "print('i:', i)\n",
    "print('result:', result)"
   ]
  },
  {
   "cell_type": "code",
   "execution_count": 10,
   "id": "4501b009",
   "metadata": {},
   "outputs": [
    {
     "data": {
      "text/plain": [
       "(2, 10, 20)"
      ]
     },
     "execution_count": 10,
     "metadata": {},
     "output_type": "execute_result"
    }
   ],
   "source": [
    "a = 2\n",
    "b = 10\n",
    "c = 20\n",
    "\n",
    "a,b,c"
   ]
  },
  {
   "cell_type": "code",
   "execution_count": 11,
   "id": "4c5a3cc4",
   "metadata": {},
   "outputs": [
    {
     "data": {
      "text/plain": [
       "50"
      ]
     },
     "execution_count": 11,
     "metadata": {},
     "output_type": "execute_result"
    }
   ],
   "source": [
    "(a * b + (c ** a // b - b) )"
   ]
  },
  {
   "cell_type": "code",
   "execution_count": 17,
   "id": "7dd923a7",
   "metadata": {},
   "outputs": [
    {
     "data": {
      "text/plain": [
       "30"
      ]
     },
     "execution_count": 17,
     "metadata": {},
     "output_type": "execute_result"
    }
   ],
   "source": [
    "(c ** a // b - b)"
   ]
  },
  {
   "cell_type": "code",
   "execution_count": 13,
   "id": "4a410731",
   "metadata": {},
   "outputs": [
    {
     "data": {
      "text/plain": [
       "400"
      ]
     },
     "execution_count": 13,
     "metadata": {},
     "output_type": "execute_result"
    }
   ],
   "source": [
    "c**a"
   ]
  },
  {
   "cell_type": "code",
   "execution_count": 14,
   "id": "581c6ca9",
   "metadata": {},
   "outputs": [
    {
     "data": {
      "text/plain": [
       "0"
      ]
     },
     "execution_count": 14,
     "metadata": {},
     "output_type": "execute_result"
    }
   ],
   "source": [
    "b-b"
   ]
  },
  {
   "cell_type": "code",
   "execution_count": 15,
   "id": "7b6367ef",
   "metadata": {},
   "outputs": [
    {
     "ename": "ZeroDivisionError",
     "evalue": "integer division or modulo by zero",
     "output_type": "error",
     "traceback": [
      "\u001b[1;31m---------------------------------------------------------------------------\u001b[0m",
      "\u001b[1;31mZeroDivisionError\u001b[0m                         Traceback (most recent call last)",
      "\u001b[1;32m~\\AppData\\Local\\Temp/ipykernel_9024/3256423367.py\u001b[0m in \u001b[0;36m<module>\u001b[1;34m\u001b[0m\n\u001b[1;32m----> 1\u001b[1;33m \u001b[1;36m400\u001b[0m\u001b[1;33m//\u001b[0m\u001b[1;36m0\u001b[0m\u001b[1;33m\u001b[0m\u001b[1;33m\u001b[0m\u001b[0m\n\u001b[0m",
      "\u001b[1;31mZeroDivisionError\u001b[0m: integer division or modulo by zero"
     ]
    }
   ],
   "source": [
    "400//0"
   ]
  },
  {
   "cell_type": "code",
   "execution_count": 22,
   "id": "121e9c75",
   "metadata": {},
   "outputs": [
    {
     "ename": "SyntaxError",
     "evalue": "invalid character in identifier (Temp/ipykernel_9024/3849863010.py, line 4)",
     "output_type": "error",
     "traceback": [
      "\u001b[1;36m  File \u001b[1;32m\"C:\\Users\\SONY\\AppData\\Local\\Temp/ipykernel_9024/3849863010.py\"\u001b[1;36m, line \u001b[1;32m4\u001b[0m\n\u001b[1;33m    print(“Between 10 and 20”)    # Line 3\u001b[0m\n\u001b[1;37m                 ^\u001b[0m\n\u001b[1;31mSyntaxError\u001b[0m\u001b[1;31m:\u001b[0m invalid character in identifier\n"
     ]
    }
   ],
   "source": [
    "num = 35\n",
    "# Line 1 \n",
    "if num==10 and num<20:\n",
    "    print(“Between 10 and 20”)    # Line 3\n",
    "else    # Line 4\n",
    "    print(“Greater Than 20’)    # Line 5\n"
   ]
  },
  {
   "cell_type": "code",
   "execution_count": 23,
   "id": "15712ca4",
   "metadata": {},
   "outputs": [
    {
     "data": {
      "text/plain": [
       "True"
      ]
     },
     "execution_count": 23,
     "metadata": {},
     "output_type": "execute_result"
    }
   ],
   "source": [
    "\"michigan\" < \"oxford\" < \"stanford\""
   ]
  },
  {
   "cell_type": "code",
   "execution_count": 24,
   "id": "18e8350a",
   "metadata": {},
   "outputs": [
    {
     "name": "stdout",
     "output_type": "stream",
     "text": [
      "Well Done!\n"
     ]
    }
   ],
   "source": [
    "if {None: None}:\n",
    "    print(\"Well Done!\")\n",
    "else:\n",
    "    print(\"Wrong\")"
   ]
  },
  {
   "cell_type": "code",
   "execution_count": 25,
   "id": "8bcd3f67",
   "metadata": {},
   "outputs": [
    {
     "data": {
      "text/plain": [
       "'Even'"
      ]
     },
     "execution_count": 25,
     "metadata": {},
     "output_type": "execute_result"
    }
   ],
   "source": [
    "'Even' if a % 2 == 0 else 'Odd'"
   ]
  },
  {
   "cell_type": "code",
   "execution_count": 26,
   "id": "666f49fe",
   "metadata": {},
   "outputs": [
    {
     "ename": "SyntaxError",
     "evalue": "invalid syntax (Temp/ipykernel_9024/902795309.py, line 1)",
     "output_type": "error",
     "traceback": [
      "\u001b[1;36m  File \u001b[1;32m\"C:\\Users\\SONY\\AppData\\Local\\Temp/ipykernel_9024/902795309.py\"\u001b[1;36m, line \u001b[1;32m1\u001b[0m\n\u001b[1;33m    if  a%2 = 0:\u001b[0m\n\u001b[1;37m            ^\u001b[0m\n\u001b[1;31mSyntaxError\u001b[0m\u001b[1;31m:\u001b[0m invalid syntax\n"
     ]
    }
   ],
   "source": [
    "if  a%2 = 0:\n",
    "    print(\"Even\")\n",
    "else:\n",
    "    print(\"Odd\")"
   ]
  },
  {
   "cell_type": "code",
   "execution_count": 27,
   "id": "b03a9d77",
   "metadata": {},
   "outputs": [
    {
     "name": "stdout",
     "output_type": "stream",
     "text": [
      "      *\n",
      "     * *\n",
      "    * * *\n",
      "   * * * *\n",
      "  * * * * *\n"
     ]
    }
   ],
   "source": [
    "star_list = \"\"\n",
    "for i in range(5):\n",
    "    star_list += \" *\"\n",
    "    print(\" \"*(4-i),star_list)"
   ]
  },
  {
   "cell_type": "code",
   "execution_count": 90,
   "id": "46ac9f68",
   "metadata": {},
   "outputs": [
    {
     "name": "stdout",
     "output_type": "stream",
     "text": [
      "21\n"
     ]
    }
   ],
   "source": [
    "i = 1\n",
    "j = 0\n",
    "while 1: # 1 to execute the condition for every time\n",
    "    i+=1\n",
    "    if i%2 == 0:\n",
    "        continue\n",
    "    j+=1\n",
    "    if i > 10:\n",
    "        break\n",
    "c = i + j*2\n",
    "print(c)"
   ]
  },
  {
   "cell_type": "code",
   "execution_count": 91,
   "id": "c0999d81",
   "metadata": {},
   "outputs": [
    {
     "name": "stdout",
     "output_type": "stream",
     "text": [
      "0\n",
      "1\n",
      "2\n",
      "3\n",
      "4\n",
      "5\n",
      "6\n",
      "7\n",
      "8\n",
      "9\n"
     ]
    }
   ],
   "source": [
    "j=0\n",
    "\n",
    "while j<10:\n",
    "    print(j)\n",
    "    j+=1"
   ]
  },
  {
   "cell_type": "code",
   "execution_count": 29,
   "id": "e7578cb8",
   "metadata": {},
   "outputs": [
    {
     "name": "stdout",
     "output_type": "stream",
     "text": [
      "5\n"
     ]
    }
   ],
   "source": [
    "def func(x):\n",
    "    return x%2 == 0\n",
    "\n",
    "li = [2,9,5,10,11,34,57,66,93,102]\n",
    "li = list(map(func,li))\n",
    "print(sum(li))"
   ]
  },
  {
   "cell_type": "code",
   "execution_count": 30,
   "id": "97d9e27e",
   "metadata": {},
   "outputs": [
    {
     "data": {
      "text/plain": [
       "float"
      ]
     },
     "execution_count": 30,
     "metadata": {},
     "output_type": "execute_result"
    }
   ],
   "source": [
    "type(1/1)"
   ]
  },
  {
   "cell_type": "code",
   "execution_count": 33,
   "id": "98c5b83c",
   "metadata": {},
   "outputs": [
    {
     "data": {
      "text/plain": [
       "0.0"
      ]
     },
     "execution_count": 33,
     "metadata": {},
     "output_type": "execute_result"
    }
   ],
   "source": [
    "(0/1)"
   ]
  },
  {
   "cell_type": "code",
   "execution_count": 34,
   "id": "8d57370a",
   "metadata": {},
   "outputs": [
    {
     "data": {
      "text/plain": [
       "2.0"
      ]
     },
     "execution_count": 34,
     "metadata": {},
     "output_type": "execute_result"
    }
   ],
   "source": [
    "(5.3 // 2)"
   ]
  },
  {
   "cell_type": "code",
   "execution_count": 35,
   "id": "62755443",
   "metadata": {},
   "outputs": [
    {
     "name": "stdout",
     "output_type": "stream",
     "text": [
      "5 4 3 2 1\n",
      "5 4 3 2 1\n",
      "5 4 3 2 1\n",
      "5 4 3 2 1\n",
      "5 4 3 2 1\n"
     ]
    }
   ],
   "source": [
    "li = [[(i+1) for i in range(5)] for j in range(5)]\n",
    "for line in li:\n",
    "    print(*line[::-1])\n"
   ]
  },
  {
   "cell_type": "code",
   "execution_count": 36,
   "id": "af2e8698",
   "metadata": {},
   "outputs": [
    {
     "data": {
      "text/plain": [
       "int"
      ]
     },
     "execution_count": 36,
     "metadata": {},
     "output_type": "execute_result"
    }
   ],
   "source": [
    "type(5//2)"
   ]
  },
  {
   "cell_type": "code",
   "execution_count": 37,
   "id": "c205f3fe",
   "metadata": {},
   "outputs": [
    {
     "name": "stdout",
     "output_type": "stream",
     "text": [
      "17\n",
      "50\n",
      "310\n"
     ]
    }
   ],
   "source": [
    "def make_multiplier(n):\n",
    "    def multiplier(x,y):\n",
    "        return x * n + y\n",
    "    return multiplier\n",
    "\n",
    "num1 = make_multiplier(6)\n",
    "num2 = make_multiplier(9)\n",
    "\n",
    "print(num1(2,5))\n",
    "print(num2(5,5))\n",
    "print(num2(num2(3,3),num1(5,10)))"
   ]
  },
  {
   "cell_type": "code",
   "execution_count": 38,
   "id": "21f2cef6",
   "metadata": {},
   "outputs": [
    {
     "name": "stdout",
     "output_type": "stream",
     "text": [
      "200\n"
     ]
    }
   ],
   "source": [
    "a = 100\n",
    "b = 200\n",
    "print(a and b)"
   ]
  },
  {
   "cell_type": "code",
   "execution_count": 39,
   "id": "e005b67e",
   "metadata": {},
   "outputs": [
    {
     "data": {
      "text/plain": [
       "int"
      ]
     },
     "execution_count": 39,
     "metadata": {},
     "output_type": "execute_result"
    }
   ],
   "source": [
    "type(1)"
   ]
  },
  {
   "cell_type": "code",
   "execution_count": 42,
   "id": "f378f003",
   "metadata": {},
   "outputs": [
    {
     "data": {
      "text/plain": [
       "True"
      ]
     },
     "execution_count": 42,
     "metadata": {},
     "output_type": "execute_result"
    }
   ],
   "source": [
    "\"day\" in \"saturday\""
   ]
  },
  {
   "cell_type": "code",
   "execution_count": 44,
   "id": "b79c0743",
   "metadata": {},
   "outputs": [
    {
     "data": {
      "text/plain": [
       "set"
      ]
     },
     "execution_count": 44,
     "metadata": {},
     "output_type": "execute_result"
    }
   ],
   "source": [
    "type({1,1,1,2,2,3})"
   ]
  },
  {
   "cell_type": "code",
   "execution_count": 45,
   "id": "7d05d716",
   "metadata": {},
   "outputs": [],
   "source": [
    "li = [\"a\", \"b\", \"c\"]\n",
    "li1 = li"
   ]
  },
  {
   "cell_type": "code",
   "execution_count": 47,
   "id": "51269617",
   "metadata": {},
   "outputs": [
    {
     "data": {
      "text/plain": [
       "'a'"
      ]
     },
     "execution_count": 47,
     "metadata": {},
     "output_type": "execute_result"
    }
   ],
   "source": [
    "li1\n",
    "li1.pop(0)"
   ]
  },
  {
   "cell_type": "code",
   "execution_count": 48,
   "id": "59cbe6dc",
   "metadata": {},
   "outputs": [],
   "source": [
    "li.append(\"d\")"
   ]
  },
  {
   "cell_type": "code",
   "execution_count": 49,
   "id": "74d7b20e",
   "metadata": {},
   "outputs": [
    {
     "data": {
      "text/plain": [
       "['b', 'c', 'd']"
      ]
     },
     "execution_count": 49,
     "metadata": {},
     "output_type": "execute_result"
    }
   ],
   "source": [
    "li"
   ]
  },
  {
   "cell_type": "code",
   "execution_count": 50,
   "id": "f0ac7d64",
   "metadata": {},
   "outputs": [
    {
     "data": {
      "text/plain": [
       "['b', 'c', 'd']"
      ]
     },
     "execution_count": 50,
     "metadata": {},
     "output_type": "execute_result"
    }
   ],
   "source": [
    "li1"
   ]
  },
  {
   "cell_type": "code",
   "execution_count": 51,
   "id": "420058ab",
   "metadata": {},
   "outputs": [
    {
     "data": {
      "text/plain": [
       "['b', 'c', 'd']"
      ]
     },
     "execution_count": 51,
     "metadata": {},
     "output_type": "execute_result"
    }
   ],
   "source": [
    "li2 = li.copy()\n",
    "li2"
   ]
  },
  {
   "cell_type": "code",
   "execution_count": 52,
   "id": "9fa89546",
   "metadata": {},
   "outputs": [],
   "source": [
    "li1.append(\"e\")"
   ]
  },
  {
   "cell_type": "code",
   "execution_count": 53,
   "id": "f54d9109",
   "metadata": {},
   "outputs": [
    {
     "data": {
      "text/plain": [
       "['b', 'c', 'd', 'e']"
      ]
     },
     "execution_count": 53,
     "metadata": {},
     "output_type": "execute_result"
    }
   ],
   "source": [
    "li1"
   ]
  },
  {
   "cell_type": "code",
   "execution_count": 54,
   "id": "1190b8ef",
   "metadata": {},
   "outputs": [
    {
     "data": {
      "text/plain": [
       "'d'"
      ]
     },
     "execution_count": 54,
     "metadata": {},
     "output_type": "execute_result"
    }
   ],
   "source": [
    "li2.pop()"
   ]
  },
  {
   "cell_type": "code",
   "execution_count": 56,
   "id": "ea4d330b",
   "metadata": {},
   "outputs": [
    {
     "data": {
      "text/plain": [
       "2"
      ]
     },
     "execution_count": 56,
     "metadata": {},
     "output_type": "execute_result"
    }
   ],
   "source": [
    "len(li2)"
   ]
  },
  {
   "cell_type": "code",
   "execution_count": 57,
   "id": "407bb980",
   "metadata": {},
   "outputs": [
    {
     "ename": "NameError",
     "evalue": "name 'z' is not defined",
     "output_type": "error",
     "traceback": [
      "\u001b[1;31m---------------------------------------------------------------------------\u001b[0m",
      "\u001b[1;31mNameError\u001b[0m                                 Traceback (most recent call last)",
      "\u001b[1;32m~\\AppData\\Local\\Temp/ipykernel_9024/2566329251.py\u001b[0m in \u001b[0;36m<module>\u001b[1;34m\u001b[0m\n\u001b[0;32m      1\u001b[0m \u001b[0mvar\u001b[0m \u001b[1;33m=\u001b[0m \u001b[1;34m\"abcdefg\"\u001b[0m\u001b[1;33m\u001b[0m\u001b[1;33m\u001b[0m\u001b[0m\n\u001b[0;32m      2\u001b[0m \u001b[0mvar1\u001b[0m \u001b[1;33m=\u001b[0m \u001b[0mvar\u001b[0m\u001b[1;33m\u001b[0m\u001b[1;33m\u001b[0m\u001b[0m\n\u001b[1;32m----> 3\u001b[1;33m \u001b[0mvar1\u001b[0m\u001b[1;33m[\u001b[0m\u001b[1;36m2\u001b[0m\u001b[1;33m]\u001b[0m \u001b[1;33m=\u001b[0m \u001b[0mz\u001b[0m\u001b[1;33m\u001b[0m\u001b[1;33m\u001b[0m\u001b[0m\n\u001b[0m\u001b[0;32m      4\u001b[0m \u001b[0mprint\u001b[0m\u001b[1;33m(\u001b[0m\u001b[0mvar\u001b[0m\u001b[1;33m)\u001b[0m\u001b[1;33m\u001b[0m\u001b[1;33m\u001b[0m\u001b[0m\n",
      "\u001b[1;31mNameError\u001b[0m: name 'z' is not defined"
     ]
    }
   ],
   "source": [
    "var = \"abcdefg\"\n",
    "var1 = var\n",
    "var1[2] = z\n",
    "print(var)"
   ]
  },
  {
   "cell_type": "code",
   "execution_count": 62,
   "id": "66ead630",
   "metadata": {},
   "outputs": [
    {
     "data": {
      "text/plain": [
       "'thursday'"
      ]
     },
     "execution_count": 62,
     "metadata": {},
     "output_type": "execute_result"
    }
   ],
   "source": [
    "day = \"Thursday\"\n",
    "day.lower()\n"
   ]
  },
  {
   "cell_type": "code",
   "execution_count": 65,
   "id": "bb2bfe65",
   "metadata": {},
   "outputs": [
    {
     "data": {
      "text/plain": [
       "True"
      ]
     },
     "execution_count": 65,
     "metadata": {},
     "output_type": "execute_result"
    }
   ],
   "source": [
    "val=\"Thurs\" in day\n",
    "val"
   ]
  },
  {
   "cell_type": "code",
   "execution_count": 66,
   "id": "0b1f0760",
   "metadata": {},
   "outputs": [
    {
     "name": "stdout",
     "output_type": "stream",
     "text": [
      "5\n"
     ]
    }
   ],
   "source": [
    "no_of_days = 6\n",
    "is_today_sunday = True\n",
    "print(no_of_days - is_today_sunday)"
   ]
  },
  {
   "cell_type": "code",
   "execution_count": 67,
   "id": "499a1de3",
   "metadata": {},
   "outputs": [
    {
     "name": "stdout",
     "output_type": "stream",
     "text": [
      "<class 'float'>\n"
     ]
    }
   ],
   "source": [
    "a = 23.5\n",
    "b = 4\n",
    "print(type(a//b))"
   ]
  },
  {
   "cell_type": "code",
   "execution_count": 68,
   "id": "4c8d778d",
   "metadata": {},
   "outputs": [
    {
     "ename": "SyntaxError",
     "evalue": "invalid syntax (Temp/ipykernel_9024/48183048.py, line 1)",
     "output_type": "error",
     "traceback": [
      "\u001b[1;36m  File \u001b[1;32m\"C:\\Users\\SONY\\AppData\\Local\\Temp/ipykernel_9024/48183048.py\"\u001b[1;36m, line \u001b[1;32m1\u001b[0m\n\u001b[1;33m    a b = 10, 20\u001b[0m\n\u001b[1;37m      ^\u001b[0m\n\u001b[1;31mSyntaxError\u001b[0m\u001b[1;31m:\u001b[0m invalid syntax\n"
     ]
    }
   ],
   "source": [
    "a b = 10, 20\n",
    "c = a + b * (b//a)\n",
    "print(c)"
   ]
  },
  {
   "cell_type": "code",
   "execution_count": 72,
   "id": "fb218fd1",
   "metadata": {},
   "outputs": [
    {
     "name": "stdout",
     "output_type": "stream",
     "text": [
      "False\n"
     ]
    }
   ],
   "source": [
    "print(False or True and False or True and False)"
   ]
  },
  {
   "cell_type": "code",
   "execution_count": 73,
   "id": "bc217bca",
   "metadata": {},
   "outputs": [
    {
     "name": "stdout",
     "output_type": "stream",
     "text": [
      "True\n"
     ]
    }
   ],
   "source": [
    " line = \"Hello! John\"\n",
    "line1 = line\n",
    "line.replace(\"Hello\", \"Good Morning\")\n",
    "print(line1 == line)"
   ]
  },
  {
   "cell_type": "code",
   "execution_count": 74,
   "id": "46a1845a",
   "metadata": {},
   "outputs": [
    {
     "ename": "NameError",
     "evalue": "name 'directions' is not defined",
     "output_type": "error",
     "traceback": [
      "\u001b[1;31m---------------------------------------------------------------------------\u001b[0m",
      "\u001b[1;31mNameError\u001b[0m                                 Traceback (most recent call last)",
      "\u001b[1;32m~\\AppData\\Local\\Temp/ipykernel_9024/3346118166.py\u001b[0m in \u001b[0;36m<module>\u001b[1;34m\u001b[0m\n\u001b[0;32m      2\u001b[0m \u001b[0mresidence\u001b[0m \u001b[1;33m=\u001b[0m \u001b[1;33m[\u001b[0m\u001b[1;36m5\u001b[0m\u001b[1;33m,\u001b[0m \u001b[1;36m9\u001b[0m\u001b[1;33m,\u001b[0m \u001b[1;36m3\u001b[0m\u001b[1;33m,\u001b[0m \u001b[1;36m15\u001b[0m\u001b[1;33m]\u001b[0m\u001b[1;33m\u001b[0m\u001b[1;33m\u001b[0m\u001b[0m\n\u001b[0;32m      3\u001b[0m \u001b[0mi\u001b[0m \u001b[1;33m=\u001b[0m \u001b[1;36m0\u001b[0m\u001b[1;33m\u001b[0m\u001b[1;33m\u001b[0m\u001b[0m\n\u001b[1;32m----> 4\u001b[1;33m \u001b[1;32mfor\u001b[0m \u001b[0mdirection\u001b[0m \u001b[1;32min\u001b[0m \u001b[0mdirections\u001b[0m\u001b[1;33m:\u001b[0m\u001b[1;33m\u001b[0m\u001b[1;33m\u001b[0m\u001b[0m\n\u001b[0m\u001b[0;32m      5\u001b[0m     \u001b[0mprint\u001b[0m\u001b[1;33m(\u001b[0m\u001b[1;34mf\"There are {residence[i]} residence in {direction}\"\u001b[0m\u001b[1;33m)\u001b[0m\u001b[1;33m\u001b[0m\u001b[1;33m\u001b[0m\u001b[0m\n\u001b[0;32m      6\u001b[0m     \u001b[0mi\u001b[0m \u001b[1;33m+=\u001b[0m \u001b[1;36m1\u001b[0m\u001b[1;33m\u001b[0m\u001b[1;33m\u001b[0m\u001b[0m\n",
      "\u001b[1;31mNameError\u001b[0m: name 'directions' is not defined"
     ]
    }
   ],
   "source": [
    "direction = [\"East\", \"West\", \"North\", \"South\"]\n",
    "residence = [5, 9, 3, 15]\n",
    "i = 0\n",
    "for direction in directions:\n",
    "    print(f\"There are {residence[i]} residence in {direction}\")\n",
    "    i += 1"
   ]
  },
  {
   "cell_type": "code",
   "execution_count": 75,
   "id": "cf7b5311",
   "metadata": {},
   "outputs": [
    {
     "data": {
      "text/plain": [
       "14"
      ]
     },
     "execution_count": 75,
     "metadata": {},
     "output_type": "execute_result"
    }
   ],
   "source": [
    "12 + 5 ** 2 * 3 // (7 + 8) - 3 % 10"
   ]
  },
  {
   "cell_type": "code",
   "execution_count": 76,
   "id": "fac9e216",
   "metadata": {},
   "outputs": [
    {
     "ename": "ZeroDivisionError",
     "evalue": "division by zero",
     "output_type": "error",
     "traceback": [
      "\u001b[1;31m---------------------------------------------------------------------------\u001b[0m",
      "\u001b[1;31mZeroDivisionError\u001b[0m                         Traceback (most recent call last)",
      "\u001b[1;32m~\\AppData\\Local\\Temp/ipykernel_9024/2100694689.py\u001b[0m in \u001b[0;36m<module>\u001b[1;34m\u001b[0m\n\u001b[0;32m      1\u001b[0m \u001b[0mx\u001b[0m \u001b[1;33m=\u001b[0m \u001b[1;36m0\u001b[0m\u001b[1;33m\u001b[0m\u001b[1;33m\u001b[0m\u001b[0m\n\u001b[1;32m----> 2\u001b[1;33m \u001b[0mx\u001b[0m \u001b[1;33m>\u001b[0m \u001b[1;36m0\u001b[0m \u001b[1;32mor\u001b[0m \u001b[1;36m10\u001b[0m\u001b[1;33m/\u001b[0m\u001b[0mx\u001b[0m\u001b[1;33m\u001b[0m\u001b[1;33m\u001b[0m\u001b[0m\n\u001b[0m",
      "\u001b[1;31mZeroDivisionError\u001b[0m: division by zero"
     ]
    }
   ],
   "source": [
    "x = 0\n",
    "x > 0 or 10/x"
   ]
  },
  {
   "cell_type": "code",
   "execution_count": 77,
   "id": "562e32c9",
   "metadata": {},
   "outputs": [
    {
     "data": {
      "text/plain": [
       "False"
      ]
     },
     "execution_count": 77,
     "metadata": {},
     "output_type": "execute_result"
    }
   ],
   "source": [
    "x = 0\n",
    "x > 0 and 10/x\n"
   ]
  },
  {
   "cell_type": "code",
   "execution_count": 82,
   "id": "c0f63ec2",
   "metadata": {},
   "outputs": [],
   "source": [
    "a = round(-0.1)\n",
    "if a:\n",
    "    print(\"Hello World\")"
   ]
  },
  {
   "cell_type": "code",
   "execution_count": 83,
   "id": "ec7f53bd",
   "metadata": {},
   "outputs": [
    {
     "data": {
      "text/plain": [
       "10"
      ]
     },
     "execution_count": 83,
     "metadata": {},
     "output_type": "execute_result"
    }
   ],
   "source": [
    "V1_xyw=10\n",
    "V1_xyw"
   ]
  },
  {
   "cell_type": "code",
   "execution_count": 84,
   "id": "c99c6390",
   "metadata": {},
   "outputs": [
    {
     "ename": "SyntaxError",
     "evalue": "cannot assign to operator (Temp/ipykernel_9024/2901286714.py, line 1)",
     "output_type": "error",
     "traceback": [
      "\u001b[1;36m  File \u001b[1;32m\"C:\\Users\\SONY\\AppData\\Local\\Temp/ipykernel_9024/2901286714.py\"\u001b[1;36m, line \u001b[1;32m1\u001b[0m\n\u001b[1;33m    my-var=10\u001b[0m\n\u001b[1;37m    ^\u001b[0m\n\u001b[1;31mSyntaxError\u001b[0m\u001b[1;31m:\u001b[0m cannot assign to operator\n"
     ]
    }
   ],
   "source": [
    "my-var=10\n",
    "my-var"
   ]
  },
  {
   "cell_type": "code",
   "execution_count": 99,
   "id": "76945337",
   "metadata": {},
   "outputs": [
    {
     "name": "stdout",
     "output_type": "stream",
     "text": [
      "100\n"
     ]
    }
   ],
   "source": [
    "def f1():\n",
    "    x=100\n",
    "    print(x)\n",
    "   \n",
    "\n",
    "x+=1\n",
    "f1()"
   ]
  },
  {
   "cell_type": "markdown",
   "id": "b2c71f78",
   "metadata": {},
   "source": [
    "## Exercise - Data Analysis for Vacation Planning\n",
    "\n",
    "\n",
    "You're planning a vacation, and you need to decide which city you want to visit. You have shortlisted four cities and identified the return flight cost, daily hotel cost, and weekly car rental cost. While renting a car, you need to pay for entire weeks, even if you return the car sooner.\n",
    "\n",
    "City\t Return Flight ($)\t Hotel per day ($)\t  Weekly Car Rental ($)\n",
    "\n",
    "Paris\t200\t  20\t    200\n",
    "\n",
    "London\t250\t  30\t    120\n",
    "\n",
    "Dubai\t370\t  15\t    80\n",
    "\n",
    "Mumbai\t450\t  10\t   70\n",
    "\n",
    "Answer the following questions using the data above:\n",
    "\n",
    "1. If you're planning a 1-week long trip, which city should you visit to spend the least amount of money?\n",
    "\n",
    "2. How does the answer to the previous question change if you change the trip's duration to four days, ten days or two weeks?\n",
    "\n",
    "3. If your total budget for the trip is $1000, which city should you visit to maximize the duration of your trip? Which city should you visit if you want to minimize the duration?\n",
    "\n",
    "4. How does the answer to the previous question change if your budget is $600, $2000, or $1500?\n",
    "\n",
    "\n",
    "Hint: To answer these questions, it will help to define a function cost_of_trip with relevant inputs like flight cost, hotel rate, car rental rate, and duration of the trip. You may find the math.ceil function useful for calculating the total cost of car rental."
   ]
  },
  {
   "cell_type": "code",
   "execution_count": 2,
   "id": "6b71e8f2",
   "metadata": {},
   "outputs": [],
   "source": [
    "def cost_of_trip():\n",
    "    pass"
   ]
  },
  {
   "cell_type": "code",
   "execution_count": 18,
   "id": "643ea301",
   "metadata": {},
   "outputs": [],
   "source": [
    "def cost_of_trip(Return_flight,Hotel_per_day,Weekly_car_rental,No_of_days):\n",
    "    total_cost_of_trip=Return_flight+Hotel_per_day*No_of_days+Weekly_car_rental\n",
    "    return total_cost_of_trip\n",
    "    "
   ]
  },
  {
   "cell_type": "code",
   "execution_count": 19,
   "id": "d63a4cb5",
   "metadata": {},
   "outputs": [],
   "source": [
    "Paris_trip_cost=cost_of_trip(Return_flight=200,Hotel_per_day=20,Weekly_car_rental=200,No_of_days=7)"
   ]
  },
  {
   "cell_type": "code",
   "execution_count": 20,
   "id": "7727464a",
   "metadata": {},
   "outputs": [
    {
     "name": "stdout",
     "output_type": "stream",
     "text": [
      "The cost of Paris trip for One Week  is $540\n"
     ]
    }
   ],
   "source": [
    "print(\"The cost of Paris trip for One Week  is ${}\".format(Paris_trip_cost))"
   ]
  },
  {
   "cell_type": "code",
   "execution_count": 21,
   "id": "50fa6ee5",
   "metadata": {},
   "outputs": [],
   "source": [
    "London_trip_cost=cost_of_trip(Return_flight=250,Hotel_per_day=30,Weekly_car_rental=120,No_of_days=7)"
   ]
  },
  {
   "cell_type": "code",
   "execution_count": 22,
   "id": "af5a35ff",
   "metadata": {},
   "outputs": [
    {
     "name": "stdout",
     "output_type": "stream",
     "text": [
      "The cost of Paris trip for One Week  is $580\n"
     ]
    }
   ],
   "source": [
    "print(\"The cost of Paris trip for One Week  is ${}\".format(London_trip_cost))"
   ]
  },
  {
   "cell_type": "code",
   "execution_count": 23,
   "id": "d8a6c13e",
   "metadata": {},
   "outputs": [],
   "source": [
    "Dubai_trip_cost=cost_of_trip(Return_flight=370,Hotel_per_day=15,Weekly_car_rental=80,No_of_days=7)"
   ]
  },
  {
   "cell_type": "code",
   "execution_count": 24,
   "id": "9c0caa48",
   "metadata": {},
   "outputs": [
    {
     "name": "stdout",
     "output_type": "stream",
     "text": [
      "The cost of Paris trip for One Week  is $555\n"
     ]
    }
   ],
   "source": [
    "print(\"The cost of Paris trip for One Week  is ${}\".format(Dubai_trip_cost))"
   ]
  },
  {
   "cell_type": "code",
   "execution_count": 25,
   "id": "2963e495",
   "metadata": {},
   "outputs": [],
   "source": [
    "Mumbai_trip_cost=cost_of_trip(Return_flight=450,Hotel_per_day=10,Weekly_car_rental=70,No_of_days=7)"
   ]
  },
  {
   "cell_type": "code",
   "execution_count": 26,
   "id": "69104172",
   "metadata": {},
   "outputs": [
    {
     "name": "stdout",
     "output_type": "stream",
     "text": [
      "The cost of Paris trip for One Week  is $590\n"
     ]
    }
   ],
   "source": [
    "print(\"The cost of Paris trip for One Week  is ${}\".format(Mumbai_trip_cost))"
   ]
  },
  {
   "cell_type": "markdown",
   "id": "0b5dc342",
   "metadata": {},
   "source": [
    "## Trip Duration for 10 days"
   ]
  },
  {
   "cell_type": "code",
   "execution_count": 27,
   "id": "091735d2",
   "metadata": {},
   "outputs": [],
   "source": [
    "Paris_trip_cost=cost_of_trip(Return_flight=200,Hotel_per_day=20,Weekly_car_rental=200,No_of_days=10)"
   ]
  },
  {
   "cell_type": "code",
   "execution_count": 28,
   "id": "5b7ec6fc",
   "metadata": {},
   "outputs": [
    {
     "name": "stdout",
     "output_type": "stream",
     "text": [
      "The cost of Paris trip for One Week  is $600\n"
     ]
    }
   ],
   "source": [
    "print(\"The cost of Paris trip for One Week  is ${}\".format(Paris_trip_cost))"
   ]
  },
  {
   "cell_type": "code",
   "execution_count": 29,
   "id": "7de7dd25",
   "metadata": {},
   "outputs": [],
   "source": [
    "London_trip_cost=cost_of_trip(Return_flight=250,Hotel_per_day=30,Weekly_car_rental=120,No_of_days=10)"
   ]
  },
  {
   "cell_type": "code",
   "execution_count": 30,
   "id": "79371ea9",
   "metadata": {},
   "outputs": [
    {
     "name": "stdout",
     "output_type": "stream",
     "text": [
      "The cost of Paris trip for One Week  is $670\n"
     ]
    }
   ],
   "source": [
    "print(\"The cost of Paris trip for One Week  is ${}\".format(London_trip_cost))"
   ]
  },
  {
   "cell_type": "code",
   "execution_count": 33,
   "id": "0a86bf57",
   "metadata": {},
   "outputs": [],
   "source": [
    "Dubai_trip_cost=cost_of_trip(Return_flight=370,Hotel_per_day=15,Weekly_car_rental=80,No_of_days=10)"
   ]
  },
  {
   "cell_type": "code",
   "execution_count": 34,
   "id": "00e4f201",
   "metadata": {},
   "outputs": [
    {
     "name": "stdout",
     "output_type": "stream",
     "text": [
      "The cost of Paris trip for One Week  is $600\n"
     ]
    }
   ],
   "source": [
    "print(\"The cost of Paris trip for One Week  is ${}\".format(Dubai_trip_cost))"
   ]
  },
  {
   "cell_type": "code",
   "execution_count": 35,
   "id": "d1b055e7",
   "metadata": {},
   "outputs": [],
   "source": [
    "Mumbai_trip_cost=cost_of_trip(Return_flight=450,Hotel_per_day=10,Weekly_car_rental=70,No_of_days=10)"
   ]
  },
  {
   "cell_type": "code",
   "execution_count": 36,
   "id": "1074feca",
   "metadata": {},
   "outputs": [
    {
     "name": "stdout",
     "output_type": "stream",
     "text": [
      "The cost of Paris trip for One Week  is $620\n"
     ]
    }
   ],
   "source": [
    "print(\"The cost of Paris trip for One Week  is ${}\".format(Mumbai_trip_cost))"
   ]
  },
  {
   "cell_type": "code",
   "execution_count": null,
   "id": "7678d26d",
   "metadata": {},
   "outputs": [],
   "source": []
  }
 ],
 "metadata": {
  "kernelspec": {
   "display_name": "Python 3 (ipykernel)",
   "language": "python",
   "name": "python3"
  },
  "language_info": {
   "codemirror_mode": {
    "name": "ipython",
    "version": 3
   },
   "file_extension": ".py",
   "mimetype": "text/x-python",
   "name": "python",
   "nbconvert_exporter": "python",
   "pygments_lexer": "ipython3",
   "version": "3.8.10"
  }
 },
 "nbformat": 4,
 "nbformat_minor": 5
}
